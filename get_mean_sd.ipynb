{
 "cells": [
  {
   "cell_type": "code",
   "execution_count": 1,
   "metadata": {},
   "outputs": [
    {
     "data": {
      "text/plain": [
       "(270, 480, 3)"
      ]
     },
     "execution_count": 1,
     "metadata": {},
     "output_type": "execute_result"
    }
   ],
   "source": [
    "import numpy as np\n",
    "\n",
    "img = np.load(\"/home/ponoma/workspace/DATA/mirflickr_dataset/diffuser_images_npy/im2.npy\")\n",
    "img.shape"
   ]
  },
  {
   "cell_type": "code",
   "execution_count": 10,
   "metadata": {},
   "outputs": [
    {
     "name": "stdout",
     "output_type": "stream",
     "text": [
      "Image Mean (RGB order)\n",
      "0.11155567 0.12113422 0.1406812 \n",
      "\n",
      "Image SD\n",
      "0.089452974 0.09483851 0.10869888 \n",
      "\n",
      "Ground truth Mean (RGB order)\n",
      "0.24371915 0.25690535 0.2630154 \n",
      "\n",
      "Ground truth SD\n",
      "0.32493576 0.3335854 0.33773425 \n",
      "\n"
     ]
    }
   ],
   "source": [
    "# calculating mean and sd of the mirflickr dataset\n",
    "from dataset import Mirflickr\n",
    "import torch\n",
    "\n",
    "dataset = Mirflickr(\"/home/ponoma/workspace/DATA/mirflickr_dataset/\")\n",
    "\n",
    "trainLoader = torch.utils.data.DataLoader(dataset, batch_size=2)\n",
    "\n",
    "# from https://stackoverflow.com/questions/66678052/how-to-calculate-the-mean-and-the-std-of-cifar10-data \n",
    "def get_mean_std(trainLoader):\n",
    "    imgs = None\n",
    "    labels = None\n",
    "    for step, batch in enumerate(trainLoader):\n",
    "        image_batch = batch[0]\n",
    "        label_batch = batch[1]\n",
    "        # stack all images and labels into a single tensor\n",
    "        if imgs is None:\n",
    "            imgs = image_batch.cpu()\n",
    "            labels = label_batch.cpu()\n",
    "        else:\n",
    "            imgs = torch.cat([imgs, image_batch.cpu()], dim=0)\n",
    "            labels = torch.cat([labels, label_batch.cpu()], dim=0)      \n",
    "    imgs = imgs.numpy()\n",
    "    labels = labels.numpy()\n",
    "    \n",
    "    # calculate input image mean over each channel (r,g,b)\n",
    "    mean_r = imgs[:,0,:,:].mean()\n",
    "    mean_g = imgs[:,1,:,:].mean()\n",
    "    mean_b = imgs[:,2,:,:].mean()\n",
    "    print(\"Image Mean (RGB order)\")\n",
    "    print(mean_r, mean_g, mean_b, \"\\n\")\n",
    "\n",
    "    # calculate std over each channel (r,g,b)\n",
    "    std_r = imgs[:,0,:,:].std()\n",
    "    std_g = imgs[:,1,:,:].std()\n",
    "    std_b = imgs[:,2,:,:].std()\n",
    "    print(\"Image SD\")\n",
    "    print(std_r, std_g, std_b, \"\\n\")\n",
    "\n",
    "    # calculate ground truth mean and sd\n",
    "    gt_mean_r = labels[:,0,:,:].mean()\n",
    "    gt_mean_g = labels[:,1,:,:].mean()\n",
    "    gt_mean_b = labels[:,2,:,:].mean()\n",
    "    print(\"Ground truth Mean (RGB order)\")\n",
    "    print(gt_mean_r, gt_mean_g, gt_mean_b, \"\\n\")\n",
    "\n",
    "    gt_std_r = labels[:,0,:,:].std()\n",
    "    gt_std_g = labels[:,1,:,:].std()\n",
    "    gt_std_b = labels[:,2,:,:].std()\n",
    "    print(\"Ground truth SD\")\n",
    "    print(gt_std_r, gt_std_g, gt_std_b, \"\\n\")\n",
    "\n",
    "\n",
    "get_mean_std(trainLoader)"
   ]
  },
  {
   "cell_type": "code",
   "execution_count": null,
   "metadata": {},
   "outputs": [],
   "source": []
  }
 ],
 "metadata": {
  "kernelspec": {
   "display_name": "transformer",
   "language": "python",
   "name": "python3"
  },
  "language_info": {
   "codemirror_mode": {
    "name": "ipython",
    "version": 3
   },
   "file_extension": ".py",
   "mimetype": "text/x-python",
   "name": "python",
   "nbconvert_exporter": "python",
   "pygments_lexer": "ipython3",
   "version": "3.12.1"
  }
 },
 "nbformat": 4,
 "nbformat_minor": 2
}
