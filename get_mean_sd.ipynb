{
 "cells": [
  {
   "cell_type": "code",
   "execution_count": 1,
   "metadata": {},
   "outputs": [
    {
     "data": {
      "text/plain": [
       "(270, 480, 3)"
      ]
     },
     "execution_count": 1,
     "metadata": {},
     "output_type": "execute_result"
    }
   ],
   "source": [
    "import numpy as np\n",
    "\n",
    "img = np.load(\"/home/ponoma/workspace/DATA/mirflickr_dataset/diffuser_images_npy/im2.npy\")\n",
    "img.shape"
   ]
  },
  {
   "cell_type": "code",
   "execution_count": 14,
   "metadata": {},
   "outputs": [
    {
     "name": "stderr",
     "output_type": "stream",
     "text": [
      "100%|██████████| 782/782 [08:26<00:00,  1.54it/s]"
     ]
    },
    {
     "name": "stdout",
     "output_type": "stream",
     "text": [
      "Image Max tensor(0.9004, device='cuda:0')\n",
      "Image Min tensor(-0.0079, device='cuda:0')\n",
      "Target Max tensor(1., device='cuda:0')\n",
      "Target Min tensor(4.1243e-05, device='cuda:0')\n"
     ]
    },
    {
     "name": "stderr",
     "output_type": "stream",
     "text": [
      "\n"
     ]
    }
   ],
   "source": [
    "# calculating mean and sd of the mirflickr dataset\n",
    "from dataset import Mirflickr\n",
    "import torch\n",
    "from tqdm import tqdm\n",
    "import os\n",
    "\n",
    "os.environ[\"CUDA_DEVICE_ORDER\"] = \"PCI_BUS_ID\" \n",
    "os.environ[\"CUDA_VISIBLE_DEVICES\"] = '0,1,2'\n",
    "gpu_number = 0\n",
    "\n",
    "dataset = Mirflickr(\"/home/ponoma/workspace/DATA/mirflickr_dataset/\")\n",
    "\n",
    "trainLoader = torch.utils.data.DataLoader(dataset, batch_size=32)\n",
    "\n",
    "# from https://stackoverflow.com/questions/66678052/how-to-calculate-the-mean-and-the-std-of-cifar10-data \n",
    "def get_mean_std(trainLoader):\n",
    "    final_in_max = float('-inf')\n",
    "    final_in_min = float('inf')\n",
    "    final_target_max = float('-inf')\n",
    "    final_target_min = float('inf')\n",
    "    for step, batch in enumerate(tqdm(trainLoader)):\n",
    "        input, target = batch\n",
    "        input, target = input.to(\"cuda\"), target.to(\"cuda\")  \n",
    "        final_in_min = min(final_in_min, input.min())\n",
    "        final_in_max = max(final_in_max, input.max())\n",
    "        final_target_min = min(final_target_min, target.min())\n",
    "        final_target_max = max(final_target_max, target.max())\n",
    "        # stack all images and labels into a single tensor\n",
    "    #     if imgs is None:\n",
    "    #         imgs = input\n",
    "    #         labels = target\n",
    "    #     else:\n",
    "    #         imgs = torch.cat([imgs, input], dim=0)\n",
    "    #         labels = torch.cat([labels, target], dim=0)      \n",
    "    # imgs = imgs.numpy()\n",
    "    # labels = labels.numpy()\n",
    "    \n",
    "    # calculate input image mean over each channel (r,g,b)\n",
    "    # mean_r = imgs[:,0,:,:].mean()\n",
    "    # mean_g = imgs[:,1,:,:].mean()\n",
    "    # mean_b = imgs[:,2,:,:].mean()\n",
    "    # print(\"Image Mean (RGB order)\")\n",
    "    # print(mean_r, mean_g, mean_b, \"\\n\")\n",
    "\n",
    "    # calculate std over each channel (r,g,b)\n",
    "    # std_r = imgs[:,0,:,:].std()\n",
    "    # std_g = imgs[:,1,:,:].std()\n",
    "    # std_b = imgs[:,2,:,:].std()\n",
    "    # print(\"Image SD\")\n",
    "    # print(std_r, std_g, std_b, \"\\n\")\n",
    "\n",
    "    # Calculate min and max value of input image\n",
    "    print(\"Image Max\", final_in_max)\n",
    "    print(\"Image Min\", final_in_min)\n",
    "\n",
    "    # calculate ground truth mean and sd\n",
    "    # gt_mean_r = labels[:,0,:,:].mean()\n",
    "    # gt_mean_g = labels[:,1,:,:].mean()\n",
    "    # gt_mean_b = labels[:,2,:,:].mean()\n",
    "    # print(\"Ground truth Mean (RGB order)\")\n",
    "    # print(gt_mean_r, gt_mean_g, gt_mean_b, \"\\n\")\n",
    "\n",
    "    # gt_std_r = labels[:,0,:,:].std()\n",
    "    # gt_std_g = labels[:,1,:,:].std()\n",
    "    # gt_std_b = labels[:,2,:,:].std()\n",
    "    # print(\"Ground truth SD\")\n",
    "    # print(gt_std_r, gt_std_g, gt_std_b, \"\\n\")\n",
    "\n",
    "    # Calculate min and max value of target images\n",
    "    print(\"Target Max\", final_target_max)\n",
    "    print(\"Target Min\", final_target_min)\n",
    "\n",
    "\n",
    "get_mean_std(trainLoader)"
   ]
  },
  {
   "cell_type": "code",
   "execution_count": null,
   "metadata": {},
   "outputs": [],
   "source": [
    "# Result from above code\n",
    "\n",
    "# Image Max tensor(0.9004, device='cuda:0')\n",
    "# Image Min tensor(-0.0079, device='cuda:0')\n",
    "# Target Max tensor(1., device='cuda:0')\n",
    "# Target Min tensor(4.1243e-05, device='cuda:0')"
   ]
  }
 ],
 "metadata": {
  "kernelspec": {
   "display_name": "transformer",
   "language": "python",
   "name": "python3"
  },
  "language_info": {
   "codemirror_mode": {
    "name": "ipython",
    "version": 3
   },
   "file_extension": ".py",
   "mimetype": "text/x-python",
   "name": "python",
   "nbconvert_exporter": "python",
   "pygments_lexer": "ipython3",
   "version": "3.12.1"
  }
 },
 "nbformat": 4,
 "nbformat_minor": 2
}
